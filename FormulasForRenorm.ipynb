{
  "nbformat": 4,
  "nbformat_minor": 0,
  "metadata": {
    "colab": {
      "name": "FormulasForRenorm.ipynb",
      "provenance": [],
      "collapsed_sections": [],
      "authorship_tag": "ABX9TyN1k0EfJthh5N11iG42ono2",
      "include_colab_link": true
    },
    "kernelspec": {
      "name": "python3",
      "display_name": "Python 3"
    },
    "accelerator": "GPU"
  },
  "cells": [
    {
      "cell_type": "markdown",
      "metadata": {
        "id": "view-in-github",
        "colab_type": "text"
      },
      "source": [
        "<a href=\"https://colab.research.google.com/github/atbolsh/BNN_order_statistics/blob/master/FormulasForRenorm.ipynb\" target=\"_parent\"><img src=\"https://colab.research.google.com/assets/colab-badge.svg\" alt=\"Open In Colab\"/></a>"
      ]
    },
    {
      "cell_type": "markdown",
      "metadata": {
        "id": "n-bE_R2TYGGd"
      },
      "source": [
        "#Mathematical Introduction and Basic Code"
      ]
    },
    {
      "cell_type": "markdown",
      "metadata": {
        "id": "rruozR3p_HkO"
      },
      "source": [
        "So, the original distribution is $0.5$ chance of a $1$ and a $0.5$ chance of a $-1$. That's a $\\mu = 0$ and $\\sigma = 1$.\n",
        "\n",
        "Now, the sample is really $N$ of these summed together. That means $\\mu$ is still $0$, but $\\sigma = \\sqrt{N}$. This will act like a normal, with those parameters, as long as $N$ is respectable ($N > 6$).\n",
        "\n",
        "Now, let's say we want the maximal distribution of a sample of $M$ of these; that is, we take $M$ from above, then find the maximum.\n",
        "\n",
        "Well, unfortunately this becomes more challenging, but it's well described here: https://math.stackexchange.com/questions/89030/expectation-of-the-maximum-of-gaussian-random-variables/89037#89037"
      ]
    },
    {
      "cell_type": "markdown",
      "metadata": {
        "id": "fV9BEFSTBs3e"
      },
      "source": [
        "The function $\\Phi$ from above is easily given in python like so:"
      ]
    },
    {
      "cell_type": "code",
      "metadata": {
        "colab": {
          "base_uri": "https://localhost:8080/"
        },
        "id": "GALuDlGyB4n_",
        "outputId": "bbc41ef7-f075-44f5-948e-3571386b1988"
      },
      "source": [
        "import math\n",
        "from scipy.stats import norm\n",
        "\n",
        "norm.ppf(0.95)"
      ],
      "execution_count": 1,
      "outputs": [
        {
          "output_type": "execute_result",
          "data": {
            "text/plain": [
              "1.6448536269514722"
            ]
          },
          "metadata": {
            "tags": []
          },
          "execution_count": 1
        }
      ]
    },
    {
      "cell_type": "markdown",
      "metadata": {
        "id": "pwV-XIcHCPRD"
      },
      "source": [
        "This means that the (large-$M$) behavior of the above function is best described in the following two functions:"
      ]
    },
    {
      "cell_type": "code",
      "metadata": {
        "colab": {
          "base_uri": "https://localhost:8080/"
        },
        "id": "V2_kfezeCbU2",
        "outputId": "72b76c1f-94fd-48bd-fb89-21f3b2713d7c"
      },
      "source": [
        "def maximalMu(M, N):\n",
        "  return norm.ppf(1 - (1 / M))*math.sqrt(N)\n",
        "\n",
        "def maximalSig(M, N):\n",
        "  return (norm.ppf(1 - (1 / (M*math.e))) - norm.ppf(1 - (1 / M)))*math.sqrt(N)\n",
        "\n",
        "print(maximalMu(10, 100))\n",
        "print(maximalSig(10, 100))"
      ],
      "execution_count": 2,
      "outputs": [
        {
          "output_type": "stream",
          "text": [
            "12.815515655446003\n",
            "5.0769019903702794\n"
          ],
          "name": "stdout"
        }
      ]
    },
    {
      "cell_type": "markdown",
      "metadata": {
        "id": "xYqV04J_DROH"
      },
      "source": [
        "Of course, the real question is whether or not this is a good approximation for low $M$, since a lot of max-pools happen over $4$ numbers, or maximally, $9$ numbers. For that, we can get our answers from mathematica. We use $N = 1$ as an unrealistic, but simplifying condition just to compare cases between each other.\n",
        "\n",
        "Here is a table of normal order statistics:\n",
        "\n",
        "http://faculty.washington.edu/heagerty/Books/Biostatistics/TABLES/NormalOrder.pdf"
      ]
    },
    {
      "cell_type": "code",
      "metadata": {
        "colab": {
          "base_uri": "https://localhost:8080/"
        },
        "id": "RlTU1atkDk9h",
        "outputId": "894b337d-fb73-428e-a3a2-6b8d915b42ff"
      },
      "source": [
        "maximalMu(4, 1)"
      ],
      "execution_count": 3,
      "outputs": [
        {
          "output_type": "execute_result",
          "data": {
            "text/plain": [
              "0.6744897501960817"
            ]
          },
          "metadata": {
            "tags": []
          },
          "execution_count": 3
        }
      ]
    },
    {
      "cell_type": "code",
      "metadata": {
        "id": "LKKKSEfoFJSH"
      },
      "source": [
        "#True Value: 1.029"
      ],
      "execution_count": 4,
      "outputs": []
    },
    {
      "cell_type": "code",
      "metadata": {
        "colab": {
          "base_uri": "https://localhost:8080/"
        },
        "id": "64clq0cGE1FU",
        "outputId": "63fa24e6-e6ca-497e-a916-9d28d1ef12ad"
      },
      "source": [
        "maximalMu(9, 1)"
      ],
      "execution_count": 5,
      "outputs": [
        {
          "output_type": "execute_result",
          "data": {
            "text/plain": [
              "1.2206403488473496"
            ]
          },
          "metadata": {
            "tags": []
          },
          "execution_count": 5
        }
      ]
    },
    {
      "cell_type": "code",
      "metadata": {
        "id": "RPMkaDUNFB4S"
      },
      "source": [
        "# True value: 1.485"
      ],
      "execution_count": 6,
      "outputs": []
    },
    {
      "cell_type": "code",
      "metadata": {
        "colab": {
          "base_uri": "https://localhost:8080/"
        },
        "id": "GG0nmQDxF_1x",
        "outputId": "fccffe3d-8f50-4528-900b-7aac5cddb787"
      },
      "source": [
        "maximalMu(16, 1)"
      ],
      "execution_count": 7,
      "outputs": [
        {
          "output_type": "execute_result",
          "data": {
            "text/plain": [
              "1.5341205443525463"
            ]
          },
          "metadata": {
            "tags": []
          },
          "execution_count": 7
        }
      ]
    },
    {
      "cell_type": "code",
      "metadata": {
        "id": "pRjGEuzbGsUt"
      },
      "source": [
        "# Real value: 1.766"
      ],
      "execution_count": 8,
      "outputs": []
    },
    {
      "cell_type": "code",
      "metadata": {
        "colab": {
          "base_uri": "https://localhost:8080/"
        },
        "id": "qiVbT4u7GzpH",
        "outputId": "a9b3dc4b-508f-45f2-b211-990510befca7"
      },
      "source": [
        "maximalMu(25, 1)"
      ],
      "execution_count": 9,
      "outputs": [
        {
          "output_type": "execute_result",
          "data": {
            "text/plain": [
              "1.7506860712521692"
            ]
          },
          "metadata": {
            "tags": []
          },
          "execution_count": 9
        }
      ]
    },
    {
      "cell_type": "code",
      "metadata": {
        "id": "37fjFjeYGztl"
      },
      "source": [
        "# Real value: Close to 2"
      ],
      "execution_count": 10,
      "outputs": []
    },
    {
      "cell_type": "code",
      "metadata": {
        "colab": {
          "base_uri": "https://localhost:8080/"
        },
        "id": "ZWvt4q4hH8OU",
        "outputId": "30f2ee1b-8378-4b56-da57-8ed68f549ebf"
      },
      "source": [
        "maximalMu(36, 1)"
      ],
      "execution_count": 11,
      "outputs": [
        {
          "output_type": "execute_result",
          "data": {
            "text/plain": [
              "1.9145058250555569"
            ]
          },
          "metadata": {
            "tags": []
          },
          "execution_count": 11
        }
      ]
    },
    {
      "cell_type": "code",
      "metadata": {
        "id": "3SeYrRlqH_EJ"
      },
      "source": [
        "# Real value: 2.12"
      ],
      "execution_count": 12,
      "outputs": []
    },
    {
      "cell_type": "markdown",
      "metadata": {
        "id": "I5aelm6XGBYr"
      },
      "source": [
        "So, not very good! Fortunately, we have this handy table: https://projecteuclid.org/download/pdf_1/euclid.aoms/1177728266\n",
        "\n",
        "We shall use it to get the $\\mu$ and $\\sigma$ for all values below $20$."
      ]
    },
    {
      "cell_type": "code",
      "metadata": {
        "id": "njzjwdPgGMCi"
      },
      "source": [
        "# WARNING: table incomplete at http://faculty.washington.edu/heagerty/Books/Biostatistics/TABLES/NormalOrder.pdf and https://projecteuclid.org/download/pdf_1/euclid.aoms/1177728266\n",
        "# Using childish approximation for 25, 26, and 27\n",
        "Mmus = [0, 0.56419, 0.84628, 1.02938, 1.16296,\\\n",
        "        1.26721, 1.35218, 1.42360, 1.48501, 1.53875,\\\n",
        "        1.58644, 1.62923, 1.66799, 1.70338, 1.73591,\\\n",
        "        1.76599, 1.79394, 1.82003, 1.84448, 1.86748,\\\n",
        "        1.88917, 1.90969, 1.92916, 1.94767, 1.94767 + 0.0177,\n",
        "        1.94767 + 0.0177 + 0.0169,\\\n",
        "        1.94767 + 0.0177 + 0.0169 + 0.0161,\\\n",
        "                           2.01371, 2.02852, 2.04276,\\\n",
        "        2.05646, 2.06967, 2.08241, 2.09471, 2.10661,\\\n",
        "        2.11812, 2.12928]"
      ],
      "execution_count": 13,
      "outputs": []
    },
    {
      "cell_type": "code",
      "metadata": {
        "colab": {
          "base_uri": "https://localhost:8080/"
        },
        "id": "2eWdvWNCKC5n",
        "outputId": "acb144df-65ab-4783-fa42-1ca265c9908f"
      },
      "source": [
        "# Leaving for historical record of where I got difference estimates above.\n",
        "for i in range(len(Mmus) - 1):\n",
        "  print(Mmus[i])\n",
        "  print(Mmus[i + 1] - Mmus[i])"
      ],
      "execution_count": 14,
      "outputs": [
        {
          "output_type": "stream",
          "text": [
            "0\n",
            "0.56419\n",
            "0.56419\n",
            "0.28209000000000006\n",
            "0.84628\n",
            "0.18309999999999993\n",
            "1.02938\n",
            "0.13358000000000003\n",
            "1.16296\n",
            "0.10424999999999995\n",
            "1.26721\n",
            "0.08496999999999999\n",
            "1.35218\n",
            "0.07142000000000004\n",
            "1.4236\n",
            "0.061409999999999965\n",
            "1.48501\n",
            "0.05374000000000012\n",
            "1.53875\n",
            "0.04769000000000001\n",
            "1.58644\n",
            "0.042789999999999884\n",
            "1.62923\n",
            "0.03876000000000013\n",
            "1.66799\n",
            "0.03538999999999981\n",
            "1.70338\n",
            "0.03253000000000017\n",
            "1.73591\n",
            "0.030079999999999885\n",
            "1.76599\n",
            "0.02795000000000014\n",
            "1.79394\n",
            "0.026089999999999947\n",
            "1.82003\n",
            "0.02444999999999986\n",
            "1.84448\n",
            "0.02300000000000013\n",
            "1.86748\n",
            "0.021689999999999987\n",
            "1.88917\n",
            "0.020520000000000094\n",
            "1.90969\n",
            "0.019469999999999876\n",
            "1.92916\n",
            "0.018510000000000026\n",
            "1.94767\n",
            "0.01770000000000005\n",
            "1.96537\n",
            "0.016899999999999915\n",
            "1.98227\n",
            "0.016100000000000003\n",
            "1.99837\n",
            "0.015340000000000131\n",
            "2.01371\n",
            "0.014809999999999768\n",
            "2.02852\n",
            "0.01424000000000003\n",
            "2.04276\n",
            "0.013700000000000045\n",
            "2.05646\n",
            "0.013209999999999944\n",
            "2.06967\n",
            "0.012739999999999974\n",
            "2.08241\n",
            "0.0123000000000002\n",
            "2.09471\n",
            "0.0118999999999998\n",
            "2.10661\n",
            "0.01150999999999991\n",
            "2.11812\n",
            "0.01116000000000028\n"
          ],
          "name": "stdout"
        }
      ]
    },
    {
      "cell_type": "code",
      "metadata": {
        "id": "SRezYr1DKJTy"
      },
      "source": [
        "# And the Msig, coming from this table: https://projecteuclid.org/download/pdf_1/euclid.aoms/1177728266 (Table II)\n",
        "# TableII is the expectation of x^2; as usuall, the squared mean can be subtraced for the variance.\n",
        "TableII = [1.0, 1.0, 1.27566, 1.55132, 1.80002,\\\n",
        "           2.02174, 2.22030, 2.39953, 2.56262, 2.71210,\\\n",
        "           2.85003, 2.97802, 3.09740, 3.20924, 3.31444,\\\n",
        "           3.41374, 3.50766, 3.59705, 3.68205, 3.76316]\n",
        "\n",
        "Mvar = [TableII[i] - (Mmus[i]**2) for i in range(min(len(TableII), len(Mmus)))]\n",
        "\n",
        "Msig = [math.sqrt(x) for x in Mvar]"
      ],
      "execution_count": 15,
      "outputs": []
    },
    {
      "cell_type": "code",
      "metadata": {
        "colab": {
          "base_uri": "https://localhost:8080/"
        },
        "id": "MyWJqYIUPw66",
        "outputId": "2d7629ba-e1b8-45ad-bc19-e47a98329a45"
      },
      "source": [
        "Msig"
      ],
      "execution_count": 16,
      "outputs": [
        {
          "output_type": "execute_result",
          "data": {
            "text/plain": [
              "[1.0,\n",
              " 0.8256449866013843,\n",
              " 0.7479773804066537,\n",
              " 0.7012109636906714,\n",
              " 0.6689873230488004,\n",
              " 0.6449176814912118,\n",
              " 0.62602655502782,\n",
              " 0.6106496868090576,\n",
              " 0.5978003846602978,\n",
              " 0.5868120972679414,\n",
              " 0.5772678116784267,\n",
              " 0.5688845287929705,\n",
              " 0.5614350896586349,\n",
              " 0.5547400973428911,\n",
              " 0.5486861324108707,\n",
              " 0.543156809678384,\n",
              " 0.5379956100192635,\n",
              " 0.5334236581742506,\n",
              " 0.5290969000098188,\n",
              " 0.5250509019133288]"
            ]
          },
          "metadata": {
            "tags": []
          },
          "execution_count": 16
        }
      ]
    },
    {
      "cell_type": "code",
      "metadata": {
        "colab": {
          "base_uri": "https://localhost:8080/"
        },
        "id": "BmfSOGUNPxo7",
        "outputId": "4cd758ec-6dc5-43c3-97a8-b5ed3c2907bb"
      },
      "source": [
        "for i in range(20):\n",
        "  print(maximalSig(i + 1, 1))"
      ],
      "execution_count": 17,
      "outputs": [
        {
          "output_type": "stream",
          "text": [
            "inf\n",
            "0.9004525966377902\n",
            "0.7312296296172752\n",
            "0.6542321994286818\n",
            "0.608044425651108\n",
            "0.5764209843484435\n",
            "0.5530063663994136\n",
            "0.5347476096624248\n",
            "0.5199752191525362\n",
            "0.507690199037028\n",
            "0.49725367965384404\n",
            "0.4882356422575147\n",
            "0.4803346335448706\n",
            "0.4733322161869702\n",
            "0.467065698220106\n",
            "0.4614110654864225\n",
            "0.4562718945028028\n",
            "0.4515719181236393\n",
            "0.44724990229298367\n",
            "0.44325603026274885\n"
          ],
          "name": "stdout"
        }
      ]
    },
    {
      "cell_type": "code",
      "metadata": {
        "colab": {
          "base_uri": "https://localhost:8080/"
        },
        "id": "6JzaVUrZQxSC",
        "outputId": "c26b83de-a2a2-49e8-88cc-61b46316be78"
      },
      "source": [
        "# We need 1st order corrections to make it work; probably won't decrease substantially within the domain we actually care about, M > 100\n",
        "trueMuDif = Mmus[-1] - maximalMu(len(Mmus), 1)\n",
        "trueSigDif = Msig[-1] - maximalSig(len(Msig), 1)\n",
        "print(trueMuDif)\n",
        "print(trueSigDif)"
      ],
      "execution_count": 18,
      "outputs": [
        {
          "output_type": "stream",
          "text": [
            "0.20287684703601716\n",
            "0.08179487165057997\n"
          ],
          "name": "stdout"
        }
      ]
    },
    {
      "cell_type": "code",
      "metadata": {
        "id": "gVkXGCkyRltI"
      },
      "source": [
        "#Which Leads to this hacky 'true' func:\n",
        "def trueMaximalStats(M, N):\n",
        "  scale = math.sqrt(N)\n",
        "\n",
        "  if M <= len(Mmus):\n",
        "    mu = Mmus[M - 1]\n",
        "  else:\n",
        "    mu = maximalMu(M, 1) + trueMuDif\n",
        "  if M <= len(Msig):\n",
        "    sig = Msig[M - 1]\n",
        "  else:\n",
        "    sig = maximalSig(M, 1) + trueSigDif\n",
        "\n",
        "  return scale*mu, scale*sig"
      ],
      "execution_count": 19,
      "outputs": []
    },
    {
      "cell_type": "code",
      "metadata": {
        "id": "csUV4TgASimT"
      },
      "source": [
        "inds = [i + 1 for i in range(50)]\n",
        "m = []\n",
        "s = []\n",
        "for i in inds:\n",
        "  a, b = trueMaximalStats(i, 1)\n",
        "  m.append(a)\n",
        "  s.append(b)"
      ],
      "execution_count": 20,
      "outputs": []
    },
    {
      "cell_type": "code",
      "metadata": {
        "colab": {
          "base_uri": "https://localhost:8080/",
          "height": 282
        },
        "id": "fm9tVbcvSwHX",
        "outputId": "e044160a-67af-4b43-c0d8-3c6333041b86"
      },
      "source": [
        "import matplotlib.pyplot as plt\n",
        "\n",
        "plt.plot(inds, m)\n",
        "plt.plot(inds, [maximalMu(i, 1) for i in inds])"
      ],
      "execution_count": 21,
      "outputs": [
        {
          "output_type": "execute_result",
          "data": {
            "text/plain": [
              "[<matplotlib.lines.Line2D at 0x7f4b447f0e48>]"
            ]
          },
          "metadata": {
            "tags": []
          },
          "execution_count": 21
        },
        {
          "output_type": "display_data",
          "data": {
            "image/png": "[encoded data removed]",
            "text/plain": [
              "<Figure size 432x288 with 1 Axes>"
            ]
          },
          "metadata": {
            "tags": [],
            "needs_background": "light"
          }
        }
      ]
    },
    {
      "cell_type": "code",
      "metadata": {
        "colab": {
          "base_uri": "https://localhost:8080/",
          "height": 282
        },
        "id": "0m3KdqBqfQkD",
        "outputId": "28470bd9-4fc9-49e7-ff60-653f0b242411"
      },
      "source": [
        "plt.plot(inds[20:30], [m[i] - m[i - 1] for i in inds[20:30]])\n",
        "plt.plot(inds[20:30], [maximalMu(i+1, 1) - maximalMu(i, 1) for i in inds[20:30]])"
      ],
      "execution_count": 22,
      "outputs": [
        {
          "output_type": "execute_result",
          "data": {
            "text/plain": [
              "[<matplotlib.lines.Line2D at 0x7f4b447f0a20>]"
            ]
          },
          "metadata": {
            "tags": []
          },
          "execution_count": 22
        },
        {
          "output_type": "display_data",
          "data": {
            "image/png": "[encoded data removed]",
            "text/plain": [
              "<Figure size 432x288 with 1 Axes>"
            ]
          },
          "metadata": {
            "tags": [],
            "needs_background": "light"
          }
        }
      ]
    },
    {
      "cell_type": "code",
      "metadata": {
        "colab": {
          "base_uri": "https://localhost:8080/",
          "height": 282
        },
        "id": "Uo3H0h56S0to",
        "outputId": "cfcf4174-9aef-4567-d4d6-76aed2fff01b"
      },
      "source": [
        "plt.plot(inds[1:], s[1:])\n",
        "plt.plot(inds[1:], [maximalSig(i, 1) for i in inds[1:]])"
      ],
      "execution_count": 23,
      "outputs": [
        {
          "output_type": "execute_result",
          "data": {
            "text/plain": [
              "[<matplotlib.lines.Line2D at 0x7f4b44787a58>]"
            ]
          },
          "metadata": {
            "tags": []
          },
          "execution_count": 23
        },
        {
          "output_type": "display_data",
          "data": {
            "image/png": "[encoded data removed]",
            "text/plain": [
              "<Figure size 432x288 with 1 Axes>"
            ]
          },
          "metadata": {
            "tags": [],
            "needs_background": "light"
          }
        }
      ]
    },
    {
      "cell_type": "code",
      "metadata": {
        "colab": {
          "base_uri": "https://localhost:8080/",
          "height": 282
        },
        "id": "uL7HZWo9f3Y0",
        "outputId": "6113a6cb-5444-499d-8586-3fa2e77ce744"
      },
      "source": [
        "plt.plot(inds[15:30], [s[i] - s[i - 1] for i in inds[15:30]])\n",
        "plt.plot(inds[15:30], [maximalSig(i+1, 1) - maximalSig(i, 1) for i in inds[15:30]])"
      ],
      "execution_count": 24,
      "outputs": [
        {
          "output_type": "execute_result",
          "data": {
            "text/plain": [
              "[<matplotlib.lines.Line2D at 0x7f4b4422c518>]"
            ]
          },
          "metadata": {
            "tags": []
          },
          "execution_count": 24
        },
        {
          "output_type": "display_data",
          "data": {
            "image/png": "[encoded data removed]",
            "text/plain": [
              "<Figure size 432x288 with 1 Axes>"
            ]
          },
          "metadata": {
            "tags": [],
            "needs_background": "light"
          }
        }
      ]
    },
    {
      "cell_type": "code",
      "metadata": {
        "id": "DcPUMIxzS42j"
      },
      "source": [
        "# The sigs especially seem farish off, but that's something the statistic should be able to handle.\n",
        "# I really like how smooth the lin is; that is really encouraging. I don't think we'd see assymptotic behavior any faster than this.\n",
        "# All that's left is statistically testing these results at 4, 9, 16, 25, 36, 49, and 64. Keep N much larger.\n",
        "# If it holds out, then these stats can be used for proper normalization."
      ],
      "execution_count": 25,
      "outputs": []
    },
    {
      "cell_type": "markdown",
      "metadata": {
        "id": "Fo6mFrR2T0P3"
      },
      "source": [
        "# Testing the code"
      ]
    },
    {
      "cell_type": "code",
      "metadata": {
        "colab": {
          "base_uri": "https://localhost:8080/"
        },
        "id": "P4tn_sLsT211",
        "outputId": "be24cb0a-e758-4984-8bb4-acefe98643b8"
      },
      "source": [
        "import numpy as np\n",
        "\n",
        "N = 1000\n",
        "Ms = [4, 9, 16, 25, 36, 49, 64, 81]\n",
        "samples = 1000\n",
        "\n",
        "def sample(M, N):\n",
        "  res = []\n",
        "  for i in range(M):\n",
        "    arr = np.random.randint(-1, 1, N)*2 + 1\n",
        "    res.append(sum(arr))\n",
        "  return max(res)\n",
        "\n",
        "sample(4, 1000)"
      ],
      "execution_count": 26,
      "outputs": [
        {
          "output_type": "execute_result",
          "data": {
            "text/plain": [
              "110"
            ]
          },
          "metadata": {
            "tags": []
          },
          "execution_count": 26
        }
      ]
    },
    {
      "cell_type": "code",
      "metadata": {
        "colab": {
          "base_uri": "https://localhost:8080/"
        },
        "id": "RQTvrByFVQBK",
        "outputId": "022349ec-d63b-4305-97a6-41af75dd66ea"
      },
      "source": [
        "def get_stats(M, N, samples):\n",
        "  s = []\n",
        "  for i in range(samples):\n",
        "    s.append(sample(M, N))\n",
        "  mu = np.mean(s)\n",
        "  sig = np.std(s)\n",
        "  return mu, sig\n",
        "\n",
        "get_stats(4, 1000, 1000)"
      ],
      "execution_count": null,
      "outputs": [
        {
          "output_type": "execute_result",
          "data": {
            "text/plain": [
              "(31.142, 22.141992593260436)"
            ]
          },
          "metadata": {
            "tags": []
          },
          "execution_count": 57
        }
      ]
    },
    {
      "cell_type": "code",
      "metadata": {
        "colab": {
          "base_uri": "https://localhost:8080/"
        },
        "id": "JpVCogryVVa5",
        "outputId": "b95fad39-66a0-4d9e-958b-1daa13663f0b"
      },
      "source": [
        "trueMaximalStats(4, 1000)"
      ],
      "execution_count": null,
      "outputs": [
        {
          "output_type": "execute_result",
          "data": {
            "text/plain": [
              "(32.55185377824126, 22.174237655441505)"
            ]
          },
          "metadata": {
            "tags": []
          },
          "execution_count": 58
        }
      ]
    },
    {
      "cell_type": "code",
      "metadata": {
        "colab": {
          "base_uri": "https://localhost:8080/"
        },
        "id": "IvEF5Y0JWeho",
        "outputId": "01f82d78-0d7e-430e-9f76-57c3ff3a9103"
      },
      "source": [
        "get_stats(9, 1000, 1000)"
      ],
      "execution_count": null,
      "outputs": [
        {
          "output_type": "execute_result",
          "data": {
            "text/plain": [
              "(46.568, 18.262239074111367)"
            ]
          },
          "metadata": {
            "tags": []
          },
          "execution_count": 59
        }
      ]
    },
    {
      "cell_type": "code",
      "metadata": {
        "colab": {
          "base_uri": "https://localhost:8080/"
        },
        "id": "yW-11y66WiWN",
        "outputId": "c7139623-1530-471e-e480-8088dc9820c6"
      },
      "source": [
        "trueMaximalStats(9, 1000)"
      ],
      "execution_count": null,
      "outputs": [
        {
          "output_type": "execute_result",
          "data": {
            "text/plain": [
              "(46.960139481266445, 18.904108016513238)"
            ]
          },
          "metadata": {
            "tags": []
          },
          "execution_count": 60
        }
      ]
    },
    {
      "cell_type": "code",
      "metadata": {
        "colab": {
          "base_uri": "https://localhost:8080/"
        },
        "id": "Wr7YfmEIWklz",
        "outputId": "34bc4095-6019-439c-8125-6100379cac5e"
      },
      "source": [
        "get_stats(16, 1000, 1000)"
      ],
      "execution_count": null,
      "outputs": [
        {
          "output_type": "execute_result",
          "data": {
            "text/plain": [
              "(56.028, 17.536453917482863)"
            ]
          },
          "metadata": {
            "tags": []
          },
          "execution_count": 61
        }
      ]
    },
    {
      "cell_type": "code",
      "metadata": {
        "colab": {
          "base_uri": "https://localhost:8080/"
        },
        "id": "RTmJe2yfWn97",
        "outputId": "6b898873-0465-4006-9737-d454dab0186a"
      },
      "source": [
        "trueMaximalStats(16, 1000)"
      ],
      "execution_count": null,
      "outputs": [
        {
          "output_type": "execute_result",
          "data": {
            "text/plain": [
              "(55.84550725080756, 17.176126452142817)"
            ]
          },
          "metadata": {
            "tags": []
          },
          "execution_count": 62
        }
      ]
    },
    {
      "cell_type": "code",
      "metadata": {
        "colab": {
          "base_uri": "https://localhost:8080/"
        },
        "id": "2sbi9v8qWrWI",
        "outputId": "407873be-2ec1-47ae-acaf-db7fb32e489c"
      },
      "source": [
        "get_stats(25, 1000, 1000)"
      ],
      "execution_count": null,
      "outputs": [
        {
          "output_type": "execute_result",
          "data": {
            "text/plain": [
              "(62.358, 16.91401300697147)"
            ]
          },
          "metadata": {
            "tags": []
          },
          "execution_count": 63
        }
      ]
    },
    {
      "cell_type": "code",
      "metadata": {
        "colab": {
          "base_uri": "https://localhost:8080/"
        },
        "id": "tY4y0Ye6WugM",
        "outputId": "4b7aebf3-6aa5-4846-934c-606b08ea931c"
      },
      "source": [
        "trueMaximalStats(25, 1000)"
      ],
      "execution_count": null,
      "outputs": [
        {
          "output_type": "execute_result",
          "data": {
            "text/plain": [
              "(62.14413189433094, 16.089108127335003)"
            ]
          },
          "metadata": {
            "tags": []
          },
          "execution_count": 64
        }
      ]
    },
    {
      "cell_type": "code",
      "metadata": {
        "colab": {
          "base_uri": "https://localhost:8080/"
        },
        "id": "SlPO29P4WyVu",
        "outputId": "7674011d-060c-4181-b5cf-f058beb80a84"
      },
      "source": [
        "get_stats(36, 1000, 1000)"
      ],
      "execution_count": null,
      "outputs": [
        {
          "output_type": "execute_result",
          "data": {
            "text/plain": [
              "(67.078, 15.696430039980429)"
            ]
          },
          "metadata": {
            "tags": []
          },
          "execution_count": 65
        }
      ]
    },
    {
      "cell_type": "code",
      "metadata": {
        "colab": {
          "base_uri": "https://localhost:8080/"
        },
        "id": "WPqSp7ECW2y_",
        "outputId": "8c2a2e66-9ccd-4478-cd81-bce066c082a9"
      },
      "source": [
        "trueMaximalStats(36, 1000)"
      ],
      "execution_count": null,
      "outputs": [
        {
          "output_type": "execute_result",
          "data": {
            "text/plain": [
              "(66.98083557555847, 15.35292341583372)"
            ]
          },
          "metadata": {
            "tags": []
          },
          "execution_count": 66
        }
      ]
    },
    {
      "cell_type": "code",
      "metadata": {
        "colab": {
          "base_uri": "https://localhost:8080/"
        },
        "id": "eLcY8t8aW6wp",
        "outputId": "435b06da-cf19-4033-e677-c16e0fa70363"
      },
      "source": [
        "get_stats(49, 1000, 1000)"
      ],
      "execution_count": null,
      "outputs": [
        {
          "output_type": "execute_result",
          "data": {
            "text/plain": [
              "(71.11, 15.155853654611473)"
            ]
          },
          "metadata": {
            "tags": []
          },
          "execution_count": 67
        }
      ]
    },
    {
      "cell_type": "code",
      "metadata": {
        "colab": {
          "base_uri": "https://localhost:8080/"
        },
        "id": "TlvHTMU6W9xy",
        "outputId": "b0995038-bd13-4972-c415-a5e0af7c0836"
      },
      "source": [
        "trueMaximalStats(49, 1000)"
      ],
      "execution_count": null,
      "outputs": [
        {
          "output_type": "execute_result",
          "data": {
            "text/plain": [
              "(71.09647154733379, 14.812399066143952)"
            ]
          },
          "metadata": {
            "tags": []
          },
          "execution_count": 68
        }
      ]
    },
    {
      "cell_type": "code",
      "metadata": {
        "colab": {
          "base_uri": "https://localhost:8080/"
        },
        "id": "117lY813XA07",
        "outputId": "18b36f15-a29e-4880-97c9-8d207b9b94f0"
      },
      "source": [
        "get_stats(64, 1000, 1000)"
      ],
      "execution_count": null,
      "outputs": [
        {
          "output_type": "execute_result",
          "data": {
            "text/plain": [
              "(74.632, 14.577811083972792)"
            ]
          },
          "metadata": {
            "tags": []
          },
          "execution_count": 69
        }
      ]
    },
    {
      "cell_type": "code",
      "metadata": {
        "colab": {
          "base_uri": "https://localhost:8080/"
        },
        "id": "BcRxENzmXEBh",
        "outputId": "db0a1f62-82ec-4dd3-8acb-88cf9c88b588"
      },
      "source": [
        "trueMaximalStats(64, 1000)"
      ],
      "execution_count": null,
      "outputs": [
        {
          "output_type": "execute_result",
          "data": {
            "text/plain": [
              "(74.52702748979941, 14.393485197179785)"
            ]
          },
          "metadata": {
            "tags": []
          },
          "execution_count": 70
        }
      ]
    },
    {
      "cell_type": "code",
      "metadata": {
        "colab": {
          "base_uri": "https://localhost:8080/"
        },
        "id": "H8OKxSKEXIej",
        "outputId": "dc2c48bb-73c8-4cea-aa8c-c31794e93648"
      },
      "source": [
        "get_stats(81, 1000, 1000)"
      ],
      "execution_count": null,
      "outputs": [
        {
          "output_type": "execute_result",
          "data": {
            "text/plain": [
              "(77.296, 13.962535013384928)"
            ]
          },
          "metadata": {
            "tags": []
          },
          "execution_count": 71
        }
      ]
    },
    {
      "cell_type": "code",
      "metadata": {
        "colab": {
          "base_uri": "https://localhost:8080/"
        },
        "id": "xYZP3rkmXMgS",
        "outputId": "aeabd936-e08e-4333-a201-aa7b0fad59eb"
      },
      "source": [
        "trueMaximalStats(81, 1000)"
      ],
      "execution_count": null,
      "outputs": [
        {
          "output_type": "execute_result",
          "data": {
            "text/plain": [
              "(77.44653208429611, 14.056162811290994)"
            ]
          },
          "metadata": {
            "tags": []
          },
          "execution_count": 72
        }
      ]
    },
    {
      "cell_type": "code",
      "metadata": {
        "colab": {
          "base_uri": "https://localhost:8080/"
        },
        "id": "R3En61XxXRch",
        "outputId": "cea07c89-6a54-4637-961c-40e517e8c0a9"
      },
      "source": [
        "get_stats(100, 1000, 1000)"
      ],
      "execution_count": null,
      "outputs": [
        {
          "output_type": "execute_result",
          "data": {
            "text/plain": [
              "(79.594, 13.303802614290397)"
            ]
          },
          "metadata": {
            "tags": []
          },
          "execution_count": 73
        }
      ]
    },
    {
      "cell_type": "code",
      "metadata": {
        "colab": {
          "base_uri": "https://localhost:8080/"
        },
        "id": "A9NwHYh8XUxp",
        "outputId": "335843b0-7878-4d0a-ff9a-bacef8ba230b"
      },
      "source": [
        "trueMaximalStats(100, 1000)"
      ],
      "execution_count": null,
      "outputs": [
        {
          "output_type": "execute_result",
          "data": {
            "text/plain": [
              "(79.98110833006947, 13.776697981461552)"
            ]
          },
          "metadata": {
            "tags": []
          },
          "execution_count": 74
        }
      ]
    },
    {
      "cell_type": "code",
      "metadata": {
        "id": "7sbHxgztXY3e"
      },
      "source": [
        "# Beautiful! This all clearly works for large $N$. But what about smaller $N$? such as"
      ],
      "execution_count": null,
      "outputs": []
    },
    {
      "cell_type": "code",
      "metadata": {
        "colab": {
          "base_uri": "https://localhost:8080/"
        },
        "id": "0BdDt_S5Xfum",
        "outputId": "8d71304d-fbfb-43c3-ec5e-b5b0a58f1599"
      },
      "source": [
        "get_stats(4, 32, 1000)"
      ],
      "execution_count": null,
      "outputs": [
        {
          "output_type": "execute_result",
          "data": {
            "text/plain": [
              "(6.018, 3.9511613482620525)"
            ]
          },
          "metadata": {
            "tags": []
          },
          "execution_count": 76
        }
      ]
    },
    {
      "cell_type": "code",
      "metadata": {
        "colab": {
          "base_uri": "https://localhost:8080/"
        },
        "id": "XEY2fDmgXo3H",
        "outputId": "792e1363-42da-43d2-a0b3-c9570adf91e3"
      },
      "source": [
        "trueMaximalStats(4, 32)"
      ],
      "execution_count": null,
      "outputs": [
        {
          "output_type": "execute_result",
          "data": {
            "text/plain": [
              "(5.8230526273424665, 3.9666482197442217)"
            ]
          },
          "metadata": {
            "tags": []
          },
          "execution_count": 78
        }
      ]
    },
    {
      "cell_type": "code",
      "metadata": {
        "colab": {
          "base_uri": "https://localhost:8080/"
        },
        "id": "DLkrW2aYXrE3",
        "outputId": "d92336f4-c176-4b97-c64f-26d5dca08072"
      },
      "source": [
        "get_stats(9, 32, 1000)"
      ],
      "execution_count": null,
      "outputs": [
        {
          "output_type": "execute_result",
          "data": {
            "text/plain": [
              "(8.254, 3.261208978277841)"
            ]
          },
          "metadata": {
            "tags": []
          },
          "execution_count": 79
        }
      ]
    },
    {
      "cell_type": "code",
      "metadata": {
        "colab": {
          "base_uri": "https://localhost:8080/"
        },
        "id": "y3Up4S0mXxEw",
        "outputId": "784bbdeb-518d-4c52-d322-462c11b83e42"
      },
      "source": [
        "trueMaximalStats(9, 32)"
      ],
      "execution_count": null,
      "outputs": [
        {
          "output_type": "execute_result",
          "data": {
            "text/plain": [
              "(8.40048512903868, 3.3816696463137856)"
            ]
          },
          "metadata": {
            "tags": []
          },
          "execution_count": 80
        }
      ]
    },
    {
      "cell_type": "code",
      "metadata": {
        "id": "HIIwtfUWXz81"
      },
      "source": [
        "# VERY good. So, it seems like all the interpolations payed off! I am ready to use the trueMaximalStats function to create and use a keras layer."
      ],
      "execution_count": null,
      "outputs": []
    },
    {
      "cell_type": "code",
      "metadata": {
        "id": "SFx7xDMyX99v"
      },
      "source": [
        ""
      ],
      "execution_count": null,
      "outputs": []
    },
    {
      "cell_type": "markdown",
      "metadata": {
        "id": "KAG_6w4iX-dh"
      },
      "source": [
        "# Using the Code to create and use a keras layer."
      ]
    },
    {
      "cell_type": "code",
      "metadata": {
        "id": "6-NVXvN8YBbu"
      },
      "source": [
        "import numpy as np"
      ],
      "execution_count": 27,
      "outputs": []
    },
    {
      "cell_type": "code",
      "metadata": {
        "id": "G-lhG0Mcd_My",
        "colab": {
          "base_uri": "https://localhost:8080/"
        },
        "outputId": "e6f5e350-81ca-4db6-d485-a65ae5bdb823"
      },
      "source": [
        "pip install larq"
      ],
      "execution_count": 28,
      "outputs": [
        {
          "output_type": "stream",
          "text": [
            "Collecting larq\n",
            "\u001b[?25l  Downloading https://files.pythonhosted.org/packages/51/60/5fb36a5a4a272e5214963c891dce9eb6bf2222a0fb90178b9e8dd25d4e37/larq-0.10.3-py3-none-any.whl (61kB)\n",
            "\r\u001b[K     |█████▎                          | 10kB 21.7MB/s eta 0:00:01\r\u001b[K     |██████████▋                     | 20kB 16.4MB/s eta 0:00:01\r\u001b[K     |████████████████                | 30kB 12.0MB/s eta 0:00:01\r\u001b[K     |█████████████████████▏          | 40kB 12.5MB/s eta 0:00:01\r\u001b[K     |██████████████████████████▌     | 51kB 8.4MB/s eta 0:00:01\r\u001b[K     |███████████████████████████████▉| 61kB 8.6MB/s eta 0:00:01\r\u001b[K     |████████████████████████████████| 71kB 5.9MB/s \n",
            "\u001b[?25hRequirement already satisfied: dataclasses; python_version < \"3.7\" in /usr/local/lib/python3.6/dist-packages (from larq) (0.8)\n",
            "Requirement already satisfied: importlib-metadata<4.0,>=2.0; python_version < \"3.8\" in /usr/local/lib/python3.6/dist-packages (from larq) (3.4.0)\n",
            "Collecting terminaltables>=3.1.0\n",
            "  Downloading https://files.pythonhosted.org/packages/9b/c4/4a21174f32f8a7e1104798c445dacdc1d4df86f2f26722767034e4de4bff/terminaltables-3.1.0.tar.gz\n",
            "Requirement already satisfied: numpy<2.0,>=1.15.4 in /usr/local/lib/python3.6/dist-packages (from larq) (1.19.5)\n",
            "Requirement already satisfied: zipp>=0.5 in /usr/local/lib/python3.6/dist-packages (from importlib-metadata<4.0,>=2.0; python_version < \"3.8\"->larq) (3.4.0)\n",
            "Requirement already satisfied: typing-extensions>=3.6.4; python_version < \"3.8\" in /usr/local/lib/python3.6/dist-packages (from importlib-metadata<4.0,>=2.0; python_version < \"3.8\"->larq) (3.7.4.3)\n",
            "Building wheels for collected packages: terminaltables\n",
            "  Building wheel for terminaltables (setup.py) ... \u001b[?25l\u001b[?25hdone\n",
            "  Created wheel for terminaltables: filename=terminaltables-3.1.0-cp36-none-any.whl size=15358 sha256=7f8c93667ca2a032a2d2552f58c8cb7ddb7e8cecd12eed9c0f71acecd0fde359\n",
            "  Stored in directory: /root/.cache/pip/wheels/30/6b/50/6c75775b681fb36cdfac7f19799888ef9d8813aff9e379663e\n",
            "Successfully built terminaltables\n",
            "Installing collected packages: terminaltables, larq\n",
            "Successfully installed larq-0.10.3 terminaltables-3.1.0\n"
          ],
          "name": "stdout"
        }
      ]
    },
    {
      "cell_type": "code",
      "metadata": {
        "id": "L79j5q49iRTj"
      },
      "source": [
        "import tensorflow as tf\n",
        "import larq as lq"
      ],
      "execution_count": 29,
      "outputs": []
    },
    {
      "cell_type": "code",
      "metadata": {
        "id": "JIyHmu9XiTWC",
        "colab": {
          "base_uri": "https://localhost:8080/"
        },
        "outputId": "abb373a5-5a12-4bda-f966-e7d8312c9aae"
      },
      "source": [
        "(train_images, train_labels), (test_images, test_labels) = tf.keras.datasets.mnist.load_data()\n",
        "\n",
        "train_images = train_images.reshape((60000, 28, 28, 1))\n",
        "test_images = test_images.reshape((10000, 28, 28, 1))\n",
        "\n",
        "# Normalize pixel values to be between -1 and 1\n",
        "train_images, test_images = train_images / 127.5 - 1, test_images / 127.5 - 1"
      ],
      "execution_count": 30,
      "outputs": [
        {
          "output_type": "stream",
          "text": [
            "Downloading data from https://storage.googleapis.com/tensorflow/tf-keras-datasets/mnist.npz\n",
            "11493376/11490434 [==============================] - 0s 0us/step\n"
          ],
          "name": "stdout"
        }
      ]
    },
    {
      "cell_type": "code",
      "metadata": {
        "id": "8AphhVdqi3h_"
      },
      "source": [
        "import matplotlib.pyplot as plt\n",
        "import numpy as np\n",
        "import pandas as pd\n",
        "import tensorflow as tf\n",
        "\n",
        "from sklearn.metrics import accuracy_score, precision_score, recall_score\n",
        "from sklearn.model_selection import train_test_split\n",
        "from tensorflow.keras import layers, losses\n",
        "from tensorflow.keras.datasets import fashion_mnist, mnist\n",
        "from tensorflow.keras.models import Model"
      ],
      "execution_count": 31,
      "outputs": []
    },
    {
      "cell_type": "code",
      "metadata": {
        "id": "o-EHEz_5iWAh"
      },
      "source": [
        "class CustomRenorm(Model):\n",
        "  def __init__(self, M, N, origSig=1.0): # origSig is sigma before all the sums. \n",
        "    super(CustomRenorm, self).__init__()\n",
        "    self.mu, self.sig = trueMaximalStats(M, N)\n",
        "    self.mu *= origSig\n",
        "    self.sig *= origSig\n",
        "\n",
        "  def call(self, x):\n",
        "    return (x - self.mu) / self.sig\n",
        "\n"
      ],
      "execution_count": 32,
      "outputs": []
    },
    {
      "cell_type": "code",
      "metadata": {
        "id": "Woi0fGMKiwWK"
      },
      "source": [
        "# All quantized layers except the first will use the same options\n",
        "kwargs = dict(input_quantizer=\"ste_sign\",\n",
        "              kernel_quantizer=\"ste_sign\",\n",
        "              kernel_constraint=\"weight_clip\")\n",
        "\n",
        "model = tf.keras.models.Sequential()\n",
        "\n",
        "# In the first layer we only quantize the weights and not the input\n",
        "l1 = lq.layers.QuantConv2D(32, (3, 3),\n",
        "                                kernel_quantizer=\"ste_sign\",\n",
        "                                kernel_constraint=\"weight_clip\",\n",
        "                                use_bias=False,\n",
        "                                input_shape=(28, 28, 1))\n",
        "model.add(l1)\n",
        "model.add(tf.keras.layers.MaxPooling2D((2, 2)))\n",
        "#model.add(tf.keras.layers.BatchNormalization(scale=False))\n",
        "model.add(CustomRenorm(4, 9))#, math.sqrt(1 / 6))) # Comes from 9 pixels; uniform distribution between -1 and 1 (after multiplication by weights.)\n",
        "# Oddly, using the correct value above - math.sqrt(1 / 6) - hurts final accuracy. Fluke?\n",
        "# SOLVED: Comes from MNIST and it's almost-binary activations. fashion_mnist performs better with correct regularizer.\n",
        "# I suggest a proper batchNorm insead of this guesswork in ONLY THIS LAYER.\n",
        "\n",
        "l2 = lq.layers.QuantConv2D(64, (3, 3), use_bias=False, **kwargs)\n",
        "model.add(l2)\n",
        "model.add(tf.keras.layers.MaxPooling2D((2, 2)))\n",
        "#model.add(tf.keras.layers.BatchNormalization(scale=False))\n",
        "model.add(CustomRenorm(4, 9*32)) # Comes from 9 32-bit pixes\n",
        "\n",
        "model.add(lq.layers.QuantConv2D(64, (3, 3), use_bias=False, **kwargs))\n",
        "#model.add(tf.keras.layers.BatchNormalization(scale=False))\n",
        "model.add(CustomRenorm(1, 64*9)) # No max-pooling, but 9 64-bit pixels.\n",
        "model.add(tf.keras.layers.Flatten())\n",
        "\n",
        "model.add(lq.layers.QuantDense(64, use_bias=False, **kwargs))\n",
        "#model.add(tf.keras.layers.BatchNormalization(scale=False))\n",
        "model.add(CustomRenorm(1, 64))\n",
        "model.add(lq.layers.QuantDense(10, use_bias=False, **kwargs))\n",
        "#model.add(tf.keras.layers.BatchNormalization(scale=False))\n",
        "model.add(CustomRenorm(1, 64))\n",
        "model.add(tf.keras.layers.Activation(\"softmax\"))"
      ],
      "execution_count": 33,
      "outputs": []
    },
    {
      "cell_type": "code",
      "metadata": {
        "colab": {
          "base_uri": "https://localhost:8080/"
        },
        "id": "FQmXrPQOjrQd",
        "outputId": "0b30c9bb-d010-4371-b05e-f36947fa9504"
      },
      "source": [
        "model.compile(optimizer='adam',\n",
        "              loss='sparse_categorical_crossentropy',\n",
        "              metrics=['accuracy'])\n",
        "\n",
        "model.fit(train_images, train_labels, batch_size=64, epochs=6)\n",
        "\n",
        "test_loss, test_acc = model.evaluate(test_images, test_labels)"
      ],
      "execution_count": 34,
      "outputs": [
        {
          "output_type": "stream",
          "text": [
            "Epoch 1/6\n",
            "938/938 [==============================] - 11s 4ms/step - loss: 0.7048 - accuracy: 0.7807\n",
            "Epoch 2/6\n",
            "938/938 [==============================] - 3s 3ms/step - loss: 0.1364 - accuracy: 0.9643\n",
            "Epoch 3/6\n",
            "938/938 [==============================] - 3s 3ms/step - loss: 0.0973 - accuracy: 0.9734\n",
            "Epoch 4/6\n",
            "938/938 [==============================] - 3s 3ms/step - loss: 0.0856 - accuracy: 0.9775\n",
            "Epoch 5/6\n",
            "938/938 [==============================] - 3s 3ms/step - loss: 0.0752 - accuracy: 0.9813\n",
            "Epoch 6/6\n",
            "938/938 [==============================] - 3s 3ms/step - loss: 0.0702 - accuracy: 0.9816\n",
            "313/313 [==============================] - 1s 2ms/step - loss: 0.0666 - accuracy: 0.9837\n"
          ],
          "name": "stdout"
        }
      ]
    },
    {
      "cell_type": "code",
      "metadata": {
        "colab": {
          "base_uri": "https://localhost:8080/"
        },
        "id": "cOJs9sN2j4ai",
        "outputId": "7e19216e-a483-4962-dd4c-cbb3065b8699"
      },
      "source": [
        "print(f\"Test accuracy {test_acc * 100:.2f} %\")"
      ],
      "execution_count": 35,
      "outputs": [
        {
          "output_type": "stream",
          "text": [
            "Test accuracy 98.37 %\n"
          ],
          "name": "stdout"
        }
      ]
    },
    {
      "cell_type": "code",
      "metadata": {
        "id": "_RvoZ4c-kNRz"
      },
      "source": [
        "# Totoal sucess! 1.16% more accuracy!! Errors down by 40%\n",
        "# BatchNorms everywhere need to go. And now I have the evidence I need."
      ],
      "execution_count": null,
      "outputs": []
    },
    {
      "cell_type": "markdown",
      "metadata": {
        "id": "-Zvn3cEZtNT3"
      },
      "source": [
        "Except for after the first layer - where a proper batchnorm may or may not be preferred - the new method seems to be better than the old. It's certainly always competitive.\n",
        "\n",
        "It needs to be tested rigorously in more settings, with more BNN architectures and with more datasets. I suspect it will often deliver train-side improvements, but it won't act as a regularizer at all.\n",
        "\n",
        "If we really want to add a regularizer, we should use something better controlled, such as dropout, block dropout, or some version of thermal noise during training."
      ]
    },
    {
      "cell_type": "code",
      "metadata": {
        "id": "Ci_mI-1Xt22F"
      },
      "source": [
        "# Save in github; ping Roeland. Play with SOTAs tmr, start Pi-ification."
      ],
      "execution_count": null,
      "outputs": []
    }
  ]
}